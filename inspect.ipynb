{
 "cells": [
  {
   "cell_type": "code",
   "execution_count": null,
   "metadata": {},
   "outputs": [],
   "source": [
    "import torch\n",
    "import torch.nn as nn\n",
    "import numpy as np\n",
    "import json\n",
    "import matplotlib.pyplot as plt\n",
    "%matplotlib inline\n",
    "\n",
    "from input_pipeline import get_datasets\n",
    "from network import Network\n",
    "\n",
    "# https://github.com/DmitryUlyanov/Multicore-TSNE\n",
    "from MulticoreTSNE import MulticoreTSNE as TSNE"
   ]
  },
  {
   "cell_type": "markdown",
   "metadata": {},
   "source": [
    "# Get validation data"
   ]
  },
  {
   "cell_type": "code",
   "execution_count": null,
   "metadata": {},
   "outputs": [],
   "source": [
    "svhn, mnist = get_datasets(is_training=False)"
   ]
  },
  {
   "cell_type": "markdown",
   "metadata": {},
   "source": [
    "# Load feature extractor"
   ]
  },
  {
   "cell_type": "code",
   "execution_count": null,
   "metadata": {},
   "outputs": [],
   "source": [
    "embedder = Network(image_size=(32, 32), embedding_dim=64).cuda()\n",
    "classifier = nn.Linear(64, 10).cuda()\n",
    "model = nn.Sequential(embedder, classifier)\n",
    "model.load_state_dict(torch.load('models/svhn_source'))\n",
    "model.eval()\n",
    "model = model[0]  # only embedding"
   ]
  },
  {
   "cell_type": "markdown",
   "metadata": {},
   "source": [
    "# Extract features"
   ]
  },
  {
   "cell_type": "code",
   "execution_count": null,
   "metadata": {},
   "outputs": [],
   "source": [
    "def predict(dataset):\n",
    "    X, y = [], []\n",
    "\n",
    "    for image, label in dataset:\n",
    "        x = model(image.unsqueeze(0).cuda())\n",
    "        X.append(x.detach().cpu().numpy())\n",
    "        y.append(label)\n",
    "\n",
    "    X = np.concatenate(X, axis=0)\n",
    "    y = np.stack(y)\n",
    "    return X, y"
   ]
  },
  {
   "cell_type": "code",
   "execution_count": null,
   "metadata": {},
   "outputs": [],
   "source": [
    "X_svhn, y_svhn = predict(svhn)\n",
    "X_mnist, y_mnist = predict(mnist)"
   ]
  },
  {
   "cell_type": "markdown",
   "metadata": {},
   "source": [
    "# Plot tsne"
   ]
  },
  {
   "cell_type": "code",
   "execution_count": null,
   "metadata": {},
   "outputs": [],
   "source": [
    "tsne = TSNE(perplexity=200.0, n_jobs=12)\n",
    "P = tsne.fit_transform(np.concatenate([X_svhn, X_mnist], axis=0))\n",
    "\n",
    "P_svhn = P[:len(X_svhn)]\n",
    "P_mnist = P[len(X_svhn):]"
   ]
  },
  {
   "cell_type": "code",
   "execution_count": null,
   "metadata": {},
   "outputs": [],
   "source": [
    "plt.figure(figsize=(15, 8))\n",
    "plt.scatter(P_svhn[:, 0], P_svhn[:, 1], c=y_svhn, cmap='tab10', marker='.', label='svhn')\n",
    "plt.scatter(P_mnist[:, 0], P_mnist[:, 1], marker='s', c='w', edgecolors='k', label='mnist', alpha=0.3)\n",
    "plt.title('source is svhn, target is mnist')\n",
    "plt.legend();"
   ]
  },
  {
   "cell_type": "markdown",
   "metadata": {},
   "source": [
    "# Plot loss curves"
   ]
  },
  {
   "cell_type": "code",
   "execution_count": null,
   "metadata": {},
   "outputs": [],
   "source": [
    "with open('logs/mnist_source.json', 'r') as f:\n",
    "    logs = json.load(f)"
   ]
  },
  {
   "cell_type": "code",
   "execution_count": null,
   "metadata": {},
   "outputs": [],
   "source": [
    "fig, axes = plt.subplots(1, 3, sharex=True, figsize=(15, 5), dpi=100)\n",
    "axes = axes.flatten()\n",
    "plt.suptitle('source is MNIST, target is SVHN', fontsize='x-large', y=1.05)\n",
    "\n",
    "axes[0].plot(logs['step'], logs['classification_loss'], label='train logloss', c='r')\n",
    "axes[0].plot(logs['val_step'], logs['svhn_logloss'], label='svhn val logloss', marker='o', c='k')\n",
    "axes[0].plot(logs['val_step'], logs['mnist_logloss'], label='mnist val logloss', marker='o', c='c')\n",
    "axes[0].legend()\n",
    "axes[0].set_title('classification losses');\n",
    "\n",
    "axes[1].plot(logs['step'], logs['walker_loss'], label='walker loss')\n",
    "axes[1].plot(logs['step'], logs['visit_loss'], label='visit loss')\n",
    "axes[1].legend()\n",
    "axes[1].set_title('domain adaptation losses');\n",
    "\n",
    "axes[2].plot(logs['val_step'], logs['svhn_accuracy'], label='svhn val', c='k')\n",
    "axes[2].plot(logs['val_step'], logs['mnist_accuracy'], label='mnist val', c='c')\n",
    "axes[2].legend()\n",
    "axes[2].set_title('accuracy')\n",
    "\n",
    "fig.tight_layout();"
   ]
  }
 ],
 "metadata": {
  "kernelspec": {
   "display_name": "Python 3",
   "language": "python",
   "name": "python3"
  },
  "language_info": {
   "codemirror_mode": {
    "name": "ipython",
    "version": 3
   },
   "file_extension": ".py",
   "mimetype": "text/x-python",
   "name": "python",
   "nbconvert_exporter": "python",
   "pygments_lexer": "ipython3",
   "version": "3.6.7"
  }
 },
 "nbformat": 4,
 "nbformat_minor": 2
}
